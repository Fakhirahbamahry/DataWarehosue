{
 "cells": [
  {
   "cell_type": "code",
   "execution_count": 1,
   "metadata": {},
   "outputs": [
    {
     "name": "stdout",
     "output_type": "stream",
     "text": [
      "32\n"
     ]
    }
   ],
   "source": [
    "# Ini adalah perkalian\n",
    "print(4 * 8)"
   ]
  },
  {
   "cell_type": "code",
   "execution_count": 2,
   "metadata": {},
   "outputs": [
    {
     "name": "stdout",
     "output_type": "stream",
     "text": [
      "1.1428571428571428\n"
     ]
    }
   ],
   "source": [
    "# Ini adalah pembagian \n",
    "print(8/7)"
   ]
  },
  {
   "cell_type": "code",
   "execution_count": 3,
   "metadata": {},
   "outputs": [
    {
     "name": "stdout",
     "output_type": "stream",
     "text": [
      "10\n",
      "0\n",
      "15\n",
      "5.0\n",
      "16\n",
      "4\n"
     ]
    }
   ],
   "source": [
    "# Penambahan dan pengurangan\n",
    "print(5 + 5)\n",
    "print(5 - 5)\n",
    "\n",
    "# Perkalian dan pembagian\n",
    "print(3 * 5)\n",
    "print(10 / 2)\n",
    "\n",
    "# Perpangkatan\n",
    "print(4 ** 2)\n",
    "\n",
    "# Pembagian Modulo\n",
    "print(18 % 7)"
   ]
  },
  {
   "cell_type": "code",
   "execution_count": 4,
   "metadata": {},
   "outputs": [
    {
     "name": "stdout",
     "output_type": "stream",
     "text": [
      "194871.7100000001\n"
     ]
    }
   ],
   "source": [
    "#perhitungan uang bank\n",
    "print(100000 * 1.1 ** 7)"
   ]
  },
  {
   "cell_type": "code",
   "execution_count": 5,
   "metadata": {},
   "outputs": [
    {
     "name": "stdout",
     "output_type": "stream",
     "text": [
      "100000\n"
     ]
    }
   ],
   "source": [
    "#membuat variabel simpanan dengan isi 100000\n",
    "simpanan = 100000\n",
    "print(simpanan)"
   ]
  },
  {
   "cell_type": "code",
   "execution_count": 6,
   "metadata": {},
   "outputs": [
    {
     "name": "stdout",
     "output_type": "stream",
     "text": [
      "259374.24601000024\n"
     ]
    }
   ],
   "source": [
    "#perhitungan hasil total dengan faktor dan simpanan dalam hasil 10 tahun\n",
    "faktor = 1.10\n",
    "hasil = simpanan*faktor**10\n",
    "print(hasil)"
   ]
  },
  {
   "cell_type": "code",
   "execution_count": 7,
   "metadata": {},
   "outputs": [
    {
     "name": "stdout",
     "output_type": "stream",
     "text": [
      "<class 'float'>\n",
      "Sains DataSains Data\n"
     ]
    }
   ],
   "source": [
    "#soal no 5\n",
    "hasil_1 = simpanan*faktor\n",
    "print (type(hasil_1))\n",
    "desc = \"Sains Data\"\n",
    "double_desc = desc+ desc\n",
    "print(double_desc)"
   ]
  },
  {
   "cell_type": "code",
   "execution_count": 8,
   "metadata": {},
   "outputs": [
    {
     "data": {
      "text/plain": [
       "'5'"
      ]
     },
     "execution_count": 8,
     "metadata": {},
     "output_type": "execute_result"
    }
   ],
   "source": [
    "a = 5\n",
    "a_baru = str(a)\n",
    "a_baru"
   ]
  },
  {
   "cell_type": "code",
   "execution_count": 9,
   "metadata": {},
   "outputs": [
    {
     "data": {
      "text/plain": [
       "str"
      ]
     },
     "execution_count": 9,
     "metadata": {},
     "output_type": "execute_result"
    }
   ],
   "source": [
    "type(a_baru)"
   ]
  },
  {
   "cell_type": "code",
   "execution_count": 11,
   "metadata": {},
   "outputs": [
    {
     "data": {
      "text/plain": [
       "300"
      ]
     },
     "execution_count": 11,
     "metadata": {},
     "output_type": "execute_result"
    }
   ],
   "source": [
    "b = '300'\n",
    "b_baru = int(b)\n",
    "b_baru"
   ]
  },
  {
   "cell_type": "code",
   "execution_count": 12,
   "metadata": {},
   "outputs": [
    {
     "data": {
      "text/plain": [
       "int"
      ]
     },
     "execution_count": 12,
     "metadata": {},
     "output_type": "execute_result"
    }
   ],
   "source": [
    "type(b_baru)"
   ]
  },
  {
   "cell_type": "code",
   "execution_count": 13,
   "metadata": {},
   "outputs": [
    {
     "name": "stdout",
     "output_type": "stream",
     "text": [
      "Uang saya awalnya100000 dan saya sekarang punya 194871.7100000001. Kueren cak\n"
     ]
    }
   ],
   "source": [
    "#soal eror diperbaiki\n",
    "# Simpanan dan hasil\n",
    "simpanan_x = 100000\n",
    "hasil_x = 100000 * 1.10 ** 7\n",
    "simpanan_x = str(simpanan_x)\n",
    "hasil_x = str(hasil_x)\n",
    "# Fix the printout\n",
    "print(\"Uang saya awalnya\" + simpanan_x + \" dan saya sekarang punya \" + hasil_x + \". Kueren cak\")"
   ]
  },
  {
   "cell_type": "code",
   "execution_count": 14,
   "metadata": {},
   "outputs": [
    {
     "name": "stdout",
     "output_type": "stream",
     "text": [
      "3.1415926\n"
     ]
    }
   ],
   "source": [
    "# Selesaikan juga ini\n",
    "pi_string = \"3.1415926\"\n",
    "\n",
    "# Konversi pi_string menjadi float simpan dalam variabel pi_float dan kemudian print\n",
    "pi_float = float(pi_string)\n",
    "print(pi_float)"
   ]
  }
 ],
 "metadata": {
  "kernelspec": {
   "display_name": "Python 3",
   "language": "python",
   "name": "python3"
  },
  "language_info": {
   "codemirror_mode": {
    "name": "ipython",
    "version": 3
   },
   "file_extension": ".py",
   "mimetype": "text/x-python",
   "name": "python",
   "nbconvert_exporter": "python",
   "pygments_lexer": "ipython3",
   "version": "3.7.4"
  }
 },
 "nbformat": 4,
 "nbformat_minor": 2
}
